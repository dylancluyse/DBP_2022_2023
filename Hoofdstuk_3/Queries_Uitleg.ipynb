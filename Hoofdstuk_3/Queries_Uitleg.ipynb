{
 "cells": [
  {
   "cell_type": "markdown",
   "metadata": {},
   "source": [
    "# Indexing\n",
    "\n"
   ]
  },
  {
   "cell_type": "markdown",
   "metadata": {},
   "source": [
    "**1. Hoe kunnen we volgende query sneller laten draaien?**\n",
    "\n",
    "```sql\n",
    "select u.id, u.displayname, u.Reputation, u.UpVotes \n",
    "from Users u \n",
    "order by u.Reputation desc,u.UpVotes asc;\n",
    "```\n",
    "\n",
    "*Antwoord: We gaan een index moeten schrijven. De index zal zich richten op Reputation en Upvaotes.*\n",
    "\n",
    "```sql\n",
    "create index user_idx on users (Reputation desc, UpVotes asc);\n",
    "```\n",
    "\n",
    "*De displayname blijft over. Hierop gaan we niet sorteren, maar we moeten deze kolom wel bij de query betrekken. Hiervoor gaan we een include gebruiken.*\n",
    "\n",
    "```sql\n",
    "create index user_idx on users (Reputation desc, UpVotes asc) include (displayname);\n",
    "```"
   ]
  },
  {
   "cell_type": "markdown",
   "metadata": {},
   "source": [
    "**2. Toon alle posts van het jaar 2010 op een efficiente manier, toon het id, titel en de viewcount.**\n",
    "\n",
    "```sql\n",
    "select id, title, viewcount \n",
    "from posts \n",
    "where CreationDate between '2010-01-01' and '2010-12-31';\n",
    "```\n",
    "\n",
    "*Hier mag je niet ```YEAR(creationdate) ``` gebruiken. Dit omdat een functie enkel een geïndexeerde query zal vertragen en zo speel je het voordeel kwijt.*\n",
    "\n",
    "*Dit kan je oplossen door ofwel een ```WHERE ... BETWEEN ... AND ...``` te doen, ofwel door een nieuwe kolom toe te voegen aan de tabel met daarin het jaar. Het nadeel is dat je hier meer geheugen gaat voor nodig hebben, maar dit is afhankelijk voor wat je het gaat gebruiken.*\n",
    "\n",
    "```sql\n",
    "alter table posts add YearCreation as (year(creationdate));\n",
    "select id, title, viewcount from posts where YearCreation = 2010;\n",
    "```"
   ]
  },
  {
   "cell_type": "markdown",
   "metadata": {},
   "source": [
    "**3. Tel het aantal stemmen per jaar op een efficiënte manier. Wat is het nadeel hier? Kunnen we dit aanraden?**\n",
    "\n",
    "```sql\n",
    "select year(CreationDate), count(ViewCount) from Posts group by year(CreationDate)\n",
    "```\n",
    "\n",
    "We hebben hier een heel lang execution plan. Dit omdat we gebruik maken van een "
   ]
  },
  {
   "cell_type": "markdown",
   "metadata": {},
   "source": [
    "**4. De index wordt niet gebruikt wanneer het geïndexeerde veld in een functie wordt gebruikt, zoals bijvoorbeeld ```YEAR(creationdate)```. Sommige systemen voorzien function-based indexes om hiermee om te kunnen gaan. Wat kunnen we doen om dit te omzeilen?**\n",
    "\n",
    "*Zoals hierboven gezegd, maak een nieuwe kolom aan dat gebaseerd is op een berekening met een functie.*"
   ]
  },
  {
   "cell_type": "markdown",
   "metadata": {},
   "source": [
    "**5. Maak een rangschikking van alle gebruikers op basis van het aantal badges op de meest efficiënte manier.**\n",
    "\n",
    "Hoe je het niet moet doen:\n",
    "\n",
    "```sql\n",
    "select u.Id, u.DisplayName, count(*) as numberOfBadges from Users u\n",
    "join Badges b on u.Id = b.UserId\n",
    "group by u.Id, u.DisplayName\n",
    "```\n",
    "\n",
    "Hier volg je best hetzelfde principe. Je slaat het aantal badges op per gebruiker."
   ]
  },
  {
   "cell_type": "code",
   "execution_count": null,
   "metadata": {},
   "outputs": [],
   "source": []
  }
 ],
 "metadata": {
  "kernelspec": {
   "display_name": "Python 3.10.8 64-bit (microsoft store)",
   "language": "python",
   "name": "python3"
  },
  "language_info": {
   "name": "python",
   "version": "3.10.8"
  },
  "orig_nbformat": 4,
  "vscode": {
   "interpreter": {
    "hash": "89da10480825c8ad24c96d10788e772e9a68ac77e314b3c42d655a8c40ed70a5"
   }
  }
 },
 "nbformat": 4,
 "nbformat_minor": 2
}
