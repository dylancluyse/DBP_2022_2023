{
 "cells": [
  {
   "cell_type": "markdown",
   "metadata": {},
   "source": [
    "# Indexing\n",
    "\n"
   ]
  },
  {
   "cell_type": "markdown",
   "metadata": {},
   "source": [
    "**1. Hoe kunnen we volgende query sneller laten draaien?**\n",
    "\n",
    "```sql\n",
    "select u.id, u.displayname, u.Reputation, u.UpVotes \n",
    "from Users u \n",
    "order by u.Reputation desc,u.UpVotes asc;\n",
    "```\n",
    "\n",
    "*Antwoord: We gaan een index moeten schrijven. De index zal zich richten op Reputation en Upvaotes.*\n",
    "\n",
    "```sql\n",
    "create index user_idx on users (Reputation desc, UpVotes asc);\n",
    "```\n",
    "\n",
    "*De displayname blijft over. Hierop gaan we niet sorteren, maar we moeten deze kolom wel bij de query betrekken. Hiervoor gaan we een include gebruiken.*\n",
    "\n",
    "```sql\n",
    "create index user_idx on users (Reputation desc, UpVotes asc) include (displayname);\n",
    "```"
   ]
  },
  {
   "cell_type": "markdown",
   "metadata": {},
   "source": [
    "**2. Toon alle posts van het jaar 2010 op een efficiente manier, toon het id, titel en de viewcount.**\n",
    "\n",
    "```sql\n",
    "select id, title, viewcount \n",
    "from posts \n",
    "where CreationDate between '2010-01-01' and '2010-12-31';\n",
    "```\n",
    "\n",
    "*Hier mag je niet ```YEAR(creationdate) ``` gebruiken. Dit omdat een functie enkel een geïndexeerde query zal vertragen en zo speel je het voordeel kwijt.*\n",
    "\n",
    "*Dit kan je oplossen door ofwel een ```WHERE ... BETWEEN ... AND ...``` te doen, ofwel door een nieuwe kolom toe te voegen aan de tabel met daarin het jaar. Het nadeel is dat je hier meer geheugen gaat voor nodig hebben, maar dit is afhankelijk voor wat je het gaat gebruiken.*\n",
    "\n",
    "```sql\n",
    "alter table posts add YearCreation as (year(creationdate));\n",
    "select id, title, viewcount from posts where YearCreation = 2010;\n",
    "```"
   ]
  },
  {
   "cell_type": "markdown",
   "metadata": {},
   "source": [
    "**3. Tel het aantal stemmen per jaar op een efficiënte manier. Wat is het nadeel hier? Kunnen we dit aanraden?**\n",
    "\n",
    "```sql\n",
    "select year(p.CreationDate) as year_of_post, count(v.id) as number_of_posts\n",
    "from Posts p \n",
    "join Votes v on p.Id = v.Id\n",
    "group by year(p.CreationDate)\n",
    "order by year(p.CreationDate)\n",
    "```\n",
    "\n",
    "*We hebben hier een heel lang execution plan. Dit omdat we gebruik maken van een geaggregeerde functie. We kunnen dit oplossen door een indexed view aan te maken van de gegevens.*\n",
    "\n",
    "3.1. *Maak eerste de materialized view:*\n",
    "\n",
    "```sql\n",
    "-- eenmalig uitvoeren\n",
    "create or alter view dbo.posts_per_year(creationyear, number_of_posts)\n",
    "with schemabinding as\n",
    "    select year(p.CreationDate) as year_of_post, count_big(v.id) as number_of_posts\n",
    "    from dbo.Posts p \n",
    "    join dbo.Votes v on p.Id = v.Id\n",
    "    group by year(p.CreationDate)\n",
    "\n",
    "-- dit achteraf uitvoeren om het te testen\n",
    "select * from posts_per_year\n",
    "```\n",
    "\n",
    "\n",
    "3.2. *Na het maken van de view moeten we een clustered index maken. Zonder de clustered index gaan we nog geen sneller systeem hebben. Als het nu sneller gaat, dan komt dit omdat het query execution plan gecached is. De clusterd index zal voor een aanzienlijk sneller systeem zorgen.*\n",
    "\n",
    "```sql\n",
    "create clustered index ci_post_per_year\n",
    "on CreationDate\n",
    "```"
   ]
  },
  {
   "cell_type": "markdown",
   "metadata": {},
   "source": [
    "**4. De index wordt niet gebruikt wanneer het geïndexeerde veld in een functie wordt gebruikt, zoals bijvoorbeeld ```YEAR(creationdate)```. Sommige systemen voorzien function-based indexes om hiermee om te kunnen gaan. Wat kunnen we doen om dit te omzeilen?**\n",
    "\n",
    "*Zoals hierboven gezegd, maak een nieuwe kolom aan dat gebaseerd is op een berekening met een functie.*"
   ]
  },
  {
   "cell_type": "markdown",
   "metadata": {},
   "source": [
    "**X - Materialized view of indexed views**\n",
    "\n",
    "* Data vasthouden als een tabel. De berekeningen neem je weg van de query runtime. Een heel complexe view met heel complexe aggregaties (count, sum, etc.). Je houdt de resultaten van een select-statement bij.\n",
    "\n",
    "* Je voegt er een primary key aan toe.\n",
    "\n",
    "* Een view wordt aangemaakt en opgeslaan als object, maar de inhoud wordt niet opgeslaan! Enkel het select-statement wordt opgeslaan.\n",
    "\n",
    "* Virtuele tabel --> 'echte data' opgeslaan in een tabel."
   ]
  },
  {
   "cell_type": "markdown",
   "metadata": {},
   "source": [
    "**X - Schema**\n",
    "\n",
    "* Container met alle objecten van een databank.\n",
    "\n",
    "* Het schema moet gebonden zijn aan de tabellen in een view. De binding zorgt voor het verwijzen naar de verschillende tabellen.\n",
    "\n",
    "*  Als je een tabel binnen een view gaat verwijderen of aanpassen, dan wordt de view onbeschikbaar.\n",
    "\n",
    "```sql\n",
    "create view ... \n",
    "with schemabinding\n",
    "as select ... from ...\n",
    "join by ... on .. = ..\n",
    "group by ..\n",
    "```\n",
    "\n",
    "* Hierna ga je een clustered index uitvoeren op de view. "
   ]
  },
  {
   "cell_type": "markdown",
   "metadata": {},
   "source": [
    "**5. Maak een rangschikking van alle gebruikers op basis van het aantal badges op de meest efficiënte manier.**\n",
    "\n",
    "Hoe je het niet moet doen:\n",
    "\n",
    "```sql\n",
    "select u.Id, u.DisplayName, count(*) as numberOfBadges from Users u\n",
    "join Badges b on u.Id = b.UserId\n",
    "group by u.Id, u.DisplayName\n",
    "```\n",
    "\n",
    "Hier volg je best hetzelfde principe. Je slaat het aantal badges op per gebruiker.\n",
    "\n",
    "\n",
    "```sql\n",
    "\n",
    "```"
   ]
  }
 ],
 "metadata": {
  "kernelspec": {
   "display_name": "Python 3.10.8 64-bit (microsoft store)",
   "language": "python",
   "name": "python3"
  },
  "language_info": {
   "name": "python",
   "version": "3.10.8"
  },
  "orig_nbformat": 4,
  "vscode": {
   "interpreter": {
    "hash": "89da10480825c8ad24c96d10788e772e9a68ac77e314b3c42d655a8c40ed70a5"
   }
  }
 },
 "nbformat": 4,
 "nbformat_minor": 2
}
